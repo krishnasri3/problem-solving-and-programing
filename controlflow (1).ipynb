{
 "cells": [
  {
   "cell_type": "code",
   "execution_count": null,
   "metadata": {},
   "outputs": [],
   "source": [
    "x=10;\n",
    "if(x<12):\n",
    "print(\"number is less than 12\");"
   ]
  },
  {
   "cell_type": "code",
   "execution_count": 5,
   "metadata": {},
   "outputs": [
    {
     "name": "stdout",
     "output_type": "stream",
     "text": [
      "hello\n"
     ]
    }
   ],
   "source": [
    "x=10;\n",
    "if(x<15):\n",
    "    print(\"hello\");"
   ]
  },
  {
   "cell_type": "code",
   "execution_count": 6,
   "metadata": {},
   "outputs": [
    {
     "name": "stdout",
     "output_type": "stream",
     "text": [
      "hello gudevng\n"
     ]
    }
   ],
   "source": [
    "x=10;\n",
    "if(x>15):\n",
    "    print(\"hello gudmrng\");\n",
    "else:\n",
    "    print(\"hello gudevng\");"
   ]
  },
  {
   "cell_type": "markdown",
   "metadata": {},
   "source": [
    "### Greatest of 2 number"
   ]
  },
  {
   "cell_type": "code",
   "execution_count": 7,
   "metadata": {},
   "outputs": [
    {
     "name": "stdout",
     "output_type": "stream",
     "text": [
      "greater\n"
     ]
    }
   ],
   "source": [
    "x=4;\n",
    "y=2;\n",
    "if(x<y):\n",
    "    print(\"less\");\n",
    "else:\n",
    "    print(\"greater\");"
   ]
  },
  {
   "cell_type": "markdown",
   "metadata": {},
   "source": [
    "## if numbers r same theo/p must be square the first number ,if not multiply two numbers\n"
   ]
  },
  {
   "cell_type": "code",
   "execution_count": 12,
   "metadata": {},
   "outputs": [
    {
     "name": "stdout",
     "output_type": "stream",
     "text": [
      "multiply 200\n"
     ]
    }
   ],
   "source": [
    "x=10;\n",
    "y=20;\n",
    "if(x==y):\n",
    "    print(\"square\",x*x);\n",
    "else:\n",
    "    print(\"multiply\",x*y);"
   ]
  },
  {
   "cell_type": "markdown",
   "metadata": {},
   "source": [
    "## checking whether the given input is zero,positive or negative number"
   ]
  },
  {
   "cell_type": "code",
   "execution_count": 18,
   "metadata": {
    "scrolled": false
   },
   "outputs": [
    {
     "name": "stdout",
     "output_type": "stream",
     "text": [
      "zero\n"
     ]
    }
   ],
   "source": [
    "x=0;\n",
    "if(x==0):\n",
    "    print(\"zero\");\n",
    "elif(x<0):\n",
    "    print(\"negative\");\n",
    "elif(x>0):\n",
    "    print(\"positive\");"
   ]
  },
  {
   "cell_type": "markdown",
   "metadata": {},
   "source": [
    "## loop statements--while:\n",
    "print numbers from 1 to 10"
   ]
  },
  {
   "cell_type": "code",
   "execution_count": 1,
   "metadata": {},
   "outputs": [
    {
     "name": "stdout",
     "output_type": "stream",
     "text": [
      "1\n",
      "2\n",
      "3\n",
      "4\n",
      "5\n",
      "6\n",
      "7\n",
      "8\n",
      "9\n",
      "10\n"
     ]
    }
   ],
   "source": [
    "n=1;\n",
    "while(n<=10):\n",
    "    print(n);\n",
    "    n=n+1;"
   ]
  },
  {
   "cell_type": "markdown",
   "metadata": {},
   "source": [
    "## print numbers from -22 to -45"
   ]
  },
  {
   "cell_type": "code",
   "execution_count": 2,
   "metadata": {},
   "outputs": [],
   "source": [
    "n=-45;\n",
    "while(n>=-22):\n",
    "    print(n);\n",
    "    n=n+1;"
   ]
  },
  {
   "cell_type": "markdown",
   "metadata": {},
   "source": [
    "## print numbers from 10 to 1"
   ]
  },
  {
   "cell_type": "code",
   "execution_count": 3,
   "metadata": {},
   "outputs": [],
   "source": [
    "n=1;\n",
    "while(n>=10):\n",
    "    print(n);\n",
    "    n=n-1;"
   ]
  },
  {
   "cell_type": "markdown",
   "metadata": {},
   "source": [
    "## print sum of even numbers b/w 1 to 100"
   ]
  },
  {
   "cell_type": "code",
   "execution_count": 4,
   "metadata": {},
   "outputs": [
    {
     "name": "stdout",
     "output_type": "stream",
     "text": [
      "enter lower limit1\n",
      "enter upper limit3\n",
      "2\n"
     ]
    }
   ],
   "source": [
    "n=int(input(\"enter lower limit\"));\n",
    "m=int(input(\"enter upper limit\"));\n",
    "sum=0;\n",
    "while(n!=m):\n",
    "    if(n%2==0):\n",
    "        sum=sum+n;\n",
    "    n=n+1;\n",
    "print(sum);"
   ]
  },
  {
   "cell_type": "markdown",
   "metadata": {},
   "source": [
    "## extract the digits of a number from right side direction"
   ]
  },
  {
   "cell_type": "code",
   "execution_count": 6,
   "metadata": {},
   "outputs": [
    {
     "name": "stdout",
     "output_type": "stream",
     "text": [
      "enter number47\n",
      "7\n",
      "4\n"
     ]
    }
   ],
   "source": [
    "n=int(input(\"enter number\"));\n",
    "while(n!=0):\n",
    "    r=n%10;\n",
    "    print(r);\n",
    "    n=n//10;"
   ]
  },
  {
   "cell_type": "code",
   "execution_count": null,
   "metadata": {},
   "outputs": [],
   "source": []
  }
 ],
 "metadata": {
  "kernelspec": {
   "display_name": "Python 3",
   "language": "python",
   "name": "python3"
  },
  "language_info": {
   "codemirror_mode": {
    "name": "ipython",
    "version": 3
   },
   "file_extension": ".py",
   "mimetype": "text/x-python",
   "name": "python",
   "nbconvert_exporter": "python",
   "pygments_lexer": "ipython3",
   "version": "3.7.0"
  }
 },
 "nbformat": 4,
 "nbformat_minor": 2
}
